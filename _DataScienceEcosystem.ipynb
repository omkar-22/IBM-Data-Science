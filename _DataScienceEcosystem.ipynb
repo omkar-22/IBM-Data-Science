{
 "cells": [
  {
   "cell_type": "markdown",
   "id": "16afdedb-38f8-4fca-aec8-6bc0f343f1d9",
   "metadata": {},
   "source": [
    "Data Science Tools and Ecosystem"
   ]
  },
  {
   "cell_type": "markdown",
   "id": "ac5f4743-0ee9-483d-ad81-ad5c278bd95d",
   "metadata": {},
   "source": [
    "In this notebook, Data Science Tools and Ecosystem are summarized."
   ]
  },
  {
   "cell_type": "markdown",
   "id": "d60482e0-b5e0-43af-a702-ef8f66d97e79",
   "metadata": {},
   "source": [
    "Some of the popular languages that Data Scientists use are:\n",
    "1. Python\n",
    "2. R Studio\n",
    "3. JavaScript"
   ]
  },
  {
   "cell_type": "markdown",
   "id": "4bda0200-c21d-4b4e-95b3-a4421190cae5",
   "metadata": {
    "tags": []
   },
   "source": [
    "Some of the commonly used libraries used by Data Scientists include:\n",
    "1. Matplotlib\n",
    "2. Scikit-learn\n",
    "3. Pandas"
   ]
  },
  {
   "cell_type": "markdown",
   "id": "c95c822a-f7d0-4d46-8540-19c91ed225da",
   "metadata": {},
   "source": [
    "|Data Science Tools|\n",
    "--------------------\n",
    "|Pandas|\n",
    "|TensorFlow|\n",
    "|Jupyter Notebook|"
   ]
  },
  {
   "cell_type": "markdown",
   "id": "79a2bb7e-f3e7-42df-8d78-e120b30d6d41",
   "metadata": {},
   "source": [
    "### H3 Below are a few examples of evaluating arithmetic expressions in Python"
   ]
  },
  {
   "cell_type": "code",
   "execution_count": null,
   "id": "08b548d6-c496-439d-8707-e85cd3be34ca",
   "metadata": {},
   "outputs": [],
   "source": []
  },
  {
   "cell_type": "code",
   "execution_count": null,
   "id": "425ce1e6-e830-4300-9c7d-40390826578a",
   "metadata": {},
   "outputs": [],
   "source": []
  },
  {
   "cell_type": "code",
   "execution_count": null,
   "id": "b47127a0-08ed-40a3-9a08-7b72e9a5ae22",
   "metadata": {},
   "outputs": [],
   "source": []
  },
  {
   "cell_type": "markdown",
   "id": "9e2df991-494c-4b8f-bc33-df8e1f4063e8",
   "metadata": {
    "tags": []
   },
   "source": []
  },
  {
   "cell_type": "code",
   "execution_count": null,
   "id": "a7f82494-a46b-49ac-814a-161dfda8aacc",
   "metadata": {},
   "outputs": [],
   "source": []
  },
  {
   "cell_type": "code",
   "execution_count": null,
   "id": "9f0bd2c1-c63e-455c-bcb8-fa2819c35ddf",
   "metadata": {},
   "outputs": [],
   "source": []
  },
  {
   "cell_type": "code",
   "execution_count": null,
   "id": "c1baf049-584d-4518-86be-8f33e0134a4f",
   "metadata": {},
   "outputs": [],
   "source": []
  }
 ],
 "metadata": {
  "kernelspec": {
   "display_name": "Python",
   "language": "python",
   "name": "conda-env-python-py"
  },
  "language_info": {
   "codemirror_mode": {
    "name": "ipython",
    "version": 3
   },
   "file_extension": ".py",
   "mimetype": "text/x-python",
   "name": "python",
   "nbconvert_exporter": "python",
   "pygments_lexer": "ipython3",
   "version": "3.7.12"
  }
 },
 "nbformat": 4,
 "nbformat_minor": 5
}
